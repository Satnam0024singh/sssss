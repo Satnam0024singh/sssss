{
  "nbformat": 4,
  "nbformat_minor": 0,
  "metadata": {
    "colab": {
      "provenance": []
    },
    "kernelspec": {
      "name": "python3",
      "display_name": "Python 3"
    },
    "language_info": {
      "name": "python"
    }
  },
  "cells": [
    {
      "cell_type": "markdown",
      "source": [
        "# Functions"
      ],
      "metadata": {
        "id": "wutgGKM8hsJh"
      }
    },
    {
      "cell_type": "markdown",
      "source": [
        "1. who r u\n",
        " -  dsdsd.\n",
        "2. ghhhgh\n",
        " - vffgg"
      ],
      "metadata": {
        "id": "fArPLH4UhyHv"
      }
    },
    {
      "cell_type": "markdown",
      "source": [],
      "metadata": {
        "id": "DO70ejaFiPpG"
      }
    },
    {
      "cell_type": "code",
      "execution_count": null,
      "metadata": {
        "id": "RVXMVnLahoOW"
      },
      "outputs": [],
      "source": [
        "# HJYJ\n",
        "'''\n",
        "this is answer\n",
        "'''\n"
      ]
    }
  ]
}